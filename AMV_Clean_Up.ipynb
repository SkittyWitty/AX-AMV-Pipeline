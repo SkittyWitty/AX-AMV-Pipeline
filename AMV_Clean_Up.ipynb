{
 "cells": [
  {
   "cell_type": "code",
   "execution_count": null,
   "metadata": {},
   "outputs": [],
   "source": [
    "import pandas as pd\n",
    "from collections import namedtuple\n",
    "\n",
    "KEY = \"Response ID\"\n",
    "\n",
    "# Columns names when a rename is performed\n",
    "TITLE = \"Title\"\n",
    "FOOTAGE = \"Footage Used\"\n",
    "AUDIO = \"Music/Audio Used\"\n",
    "AUDIO_ARTIST = \"Music/Audio Artists Used\"\n",
    "LINK = \"Download Link\"\n",
    "DEBUT_DATE = \"Debut Date\"\n",
    "NOTES = \"Additional Notes\"\n",
    "KIND = \"Category\"\n",
    "\n",
    "# Category Types\n",
    "BONUS = \"Bonus\"\n",
    "LIMITED = \"Limited\"\n",
    "STANDARD = \"Standard\"\n",
    "\n",
    "# Category column names\n",
    "BonusCategoryColumns = namedtuple('BonusCategoryColumns', ['title', 'footage', 'audio', 'audio_artist', 'link', 'debut_date', 'notes'])\n",
    "MainCategoryColumns = namedtuple('MainCategoryColumns', ['title', 'footage', 'audio', 'audio_artist', 'link', 'debut_date', 'notes', 'kind'])\n",
    "\n",
    "def getLimitedCategoryColumns():\n",
    "    title            = f\"{LIMITED} Category AMV - Title\"\n",
    "    footage          = f\"{LIMITED} Category AMV - List of Footage Used\"\n",
    "    audio            = f\"{LIMITED} Category AMV - List of Music/Audio Used\"\n",
    "    audio_artist     = f\"{LIMITED} Category AMV - List of Music/Audio Artists Used\"\n",
    "    link             = f\"{LIMITED} Category AMV - Download Link Please enter a Dropbox, Sendspace, Google Drive, or Amazon AWS link to your video here.\"\n",
    "    debut_date       = f\"{LIMITED} Category AMV - Debut Date - When was this AMV first exhibited publicly or viewable online? If it is debuting at AX 2022, enter July 1st, 2022.\"\n",
    "    notes            = f\"{LIMITED} Category AMV - Additional Notes\"\n",
    "    kind             = f\"What kind of {LIMITED} Category AMV are you submitting?\"\t\n",
    "    return MainCategoryColumns(title, footage, audio, audio_artist, link, debut_date, notes, kind)\n",
    "\n",
    "def getCategoryColumns(category_type, number=1):\n",
    "    if(category_type == LIMITED):\n",
    "        return getLimitedCategoryColumns()\n",
    "\n",
    "    title            = f\"{category_type} Category AMV {number} - Title\"\n",
    "    footage          = f\"{category_type} Category AMV {number} - List of Footage Used\"\n",
    "    audio            = f\"{category_type} Category AMV {number} - List of Music/Audio Used\"\n",
    "    audio_artist     = f\"{category_type} Category AMV {number} - List of Music/Audio Artists Used\"\n",
    "    link             = f\"{category_type} Category AMV {number} - Download Link Please enter a Dropbox, Sendspace, Google Drive, or Amazon AWS link to your video here.\"\n",
    "    debut_date       = f\"{category_type} Category AMV {number} - Debut Date - When was this AMV first exhibited publicly or viewable online? If it is debuting at AX 2022, enter July 1st, 2022.\"\n",
    "    notes            = f\"{category_type} Category AMV {number} - Additional Notes\"\n",
    "\n",
    "    if(category_type == BONUS):\n",
    "        return BonusCategoryColumns(title, footage, audio, audio_artist, link, debut_date, notes)\n",
    "    else:\n",
    "        kind = f\"What kind of {category_type} Category AMV {number} are you submitting?\"\t\n",
    "        return MainCategoryColumns(title, footage, audio, audio_artist, link, debut_date, notes, kind)\n",
    "\n",
    "BC_1_COLS = getCategoryColumns(BONUS, \"#1\")\n",
    "BC_2_COLS = getCategoryColumns(BONUS, \"#2\")\n",
    "BC_3_COLS = getCategoryColumns(BONUS, \"#3\")\n",
    "\n",
    "SC_1_COLS = getCategoryColumns(STANDARD, \"#1\")\n",
    "SC_2_COLS = getCategoryColumns(STANDARD, \"#2\")\n",
    "SC_3_COLS = getCategoryColumns(STANDARD, \"#3\")\n",
    "\n",
    "LC_COLS = getCategoryColumns(LIMITED)"
   ]
  },
  {
   "cell_type": "code",
   "execution_count": 17,
   "metadata": {},
   "outputs": [],
   "source": [
    "def bonusCategoryRename(og_col_names):\n",
    "    \"\"\"\n",
    "    Returns a dictionary used to rename the columns\n",
    "    \"\"\"\n",
    "    renames = {\n",
    "        og_col_names.title : TITLE,\n",
    "        og_col_names.footage : FOOTAGE,\n",
    "        og_col_names.audio : AUDIO,\n",
    "        og_col_names.audio_artist : AUDIO_ARTIST,\n",
    "        og_col_names.link : LINK,\n",
    "        og_col_names.debut_date : DEBUT_DATE,\n",
    "        og_col_names.notes : NOTES\n",
    "    }\n",
    "    return renames\n",
    "\n",
    "def mainCategoryRename(og_col_names):\n",
    "    \"\"\"\n",
    "    \n",
    "    \"\"\"\n",
    "    renames = bonusCategoryRename(og_col_names)\n",
    "    renames[og_col_names.kind] = KIND\n",
    "    return renames"
   ]
  },
  {
   "cell_type": "code",
   "execution_count": null,
   "metadata": {},
   "outputs": [],
   "source": [
    "# Importing data\n",
    "amv_df = pd.read_excel('./test.xlsx')"
   ]
  },
  {
   "cell_type": "code",
   "execution_count": null,
   "metadata": {},
   "outputs": [],
   "source": [
    "def columnList(columns):\n",
    "    column_list = list(columns)\n",
    "    column_list.insert(0, KEY)\n",
    "    return column_list"
   ]
  },
  {
   "cell_type": "code",
   "execution_count": null,
   "metadata": {},
   "outputs": [],
   "source": [
    "BC_1_COL_LIST = columnList(BC_1_COLS)\n",
    "BC_2_COL_LIST = columnList(BC_2_COLS)\n",
    "BC_3_COL_LIST = columnList(BC_3_COLS)"
   ]
  },
  {
   "cell_type": "code",
   "execution_count": null,
   "metadata": {},
   "outputs": [],
   "source": [
    "# Gather each subsection of Bonus Columns\n",
    "bonus_df_1 = amv_df[BC_1_COL_LIST]\n",
    "bonus_df_2 = amv_df[BC_2_COL_LIST]\n",
    "bonus_df_3 = amv_df[BC_3_COL_LIST]\n",
    "\n",
    "# Get the renames for each of the columns\n",
    "bonus_rename_1 = bonusCategoryRename(BC_1_COLS)\n",
    "bonus_rename_2 = bonusCategoryRename(BC_2_COLS)\n",
    "bonus_rename_3 = bonusCategoryRename(BC_3_COLS)\n",
    "\n",
    "# Perform column rename on each dataframe\n",
    "# Each df will have the same set of names for their columns\n",
    "bonus_df_1 = bonus_df_1.rename(columns=bonus_rename_1)\n",
    "bonus_df_2 = bonus_df_2.rename(columns=bonus_rename_2)\n",
    "bonus_df_3 = bonus_df_3.rename(columns=bonus_rename_3)"
   ]
  },
  {
   "cell_type": "code",
   "execution_count": null,
   "metadata": {},
   "outputs": [],
   "source": [
    "# Concatenate the columns\n",
    "bonus_df = pd.concat([bonus_df_1, bonus_df_2, bonus_df_3])\n",
    "bonus_df = bonus_df.dropna(subset=[TITLE])"
   ]
  },
  {
   "cell_type": "code",
   "execution_count": null,
   "metadata": {},
   "outputs": [],
   "source": [
    "result_path = str('./' + 'commercial_movie_trailer_parodies' + '.xlsx') \n",
    "with pd.ExcelWriter(result_path, engine='xlsxwriter') as writer:\n",
    "    bonus_df.to_excel(writer, index=False)"
   ]
  },
  {
   "cell_type": "markdown",
   "metadata": {},
   "source": [
    "### Limited Category Breakdown"
   ]
  },
  {
   "cell_type": "code",
   "execution_count": null,
   "metadata": {},
   "outputs": [],
   "source": [
    "# Limited Categories\n",
    "ACTION = \"Action\"\n",
    "SENTIMENTS = \"Sentiments\"\n",
    "DRAMA = \"Drama\""
   ]
  },
  {
   "cell_type": "code",
   "execution_count": null,
   "metadata": {},
   "outputs": [],
   "source": [
    "LC_COL_LIST = columnList(LC_COLS)\n",
    "LC_KIND = LC_COLS.kind\n",
    "\n",
    "lc_df = amv_df[LC_COL_LIST]\n",
    "\n",
    "# Break up into the 3 categories that Limited Contains\n",
    "action_df = lc_df[lc_df[LC_KIND] == ACTION]\n",
    "sentiments_df = lc_df[lc_df[LC_KIND] == SENTIMENTS]\n",
    "drama_df = lc_df[lc_df[LC_KIND] == DRAMA]\n",
    "\n",
    "# Remove Kind column as the type of information has already been used to \n",
    "# seperate the data into seperate dataframes. \n",
    "action_df = action_df.drop([LC_KIND], axis=1)\n",
    "sentiments_df = sentiments_df.drop([LC_KIND], axis=1)\n",
    "drama_df = drama_df.drop([LC_KIND], axis=1)"
   ]
  },
  {
   "cell_type": "code",
   "execution_count": null,
   "metadata": {},
   "outputs": [],
   "source": [
    "lc_writer = pd.ExcelWriter('limited_categories.xlsx', engine='xlsxwriter')\n",
    "\n",
    "# Write each Limited Category dataframe to a specific sheet\n",
    "action_df.to_excel(lc_writer, sheet_name=ACTION)\n",
    "sentiments_df.to_excel(lc_writer, sheet_name=SENTIMENTS)\n",
    "drama_df.to_excel(lc_writer, sheet_name=DRAMA)\n",
    "\n",
    "# Close the Pandas Excel writer and output the Excel file\n",
    "lc_writer.save()"
   ]
  },
  {
   "cell_type": "markdown",
   "metadata": {},
   "source": [
    "### Standard Category"
   ]
  },
  {
   "cell_type": "code",
   "execution_count": 18,
   "metadata": {},
   "outputs": [],
   "source": [
    "# Standard Categories\n",
    "FUN_AND_PLAY = \"Fun and Play\"\n",
    "COMEDY_AND_HUMOR = \"Comedy and Humor\"\n",
    "RHYTHM_AND_BEAT = \"Rhythm and Beat\""
   ]
  },
  {
   "cell_type": "code",
   "execution_count": 19,
   "metadata": {},
   "outputs": [],
   "source": [
    "SC_1_COL_LIST = columnList(SC_1_COLS)\n",
    "SC_2_COL_LIST = columnList(SC_2_COLS)\n",
    "SC_3_COL_LIST = columnList(SC_3_COLS)"
   ]
  },
  {
   "cell_type": "code",
   "execution_count": 20,
   "metadata": {},
   "outputs": [],
   "source": [
    "# Gather each subsection of Standard Category Columns\n",
    "sc_df_1 = amv_df[SC_1_COL_LIST]\n",
    "sc_df_2 = amv_df[SC_2_COL_LIST]\n",
    "sc_df_3 = amv_df[SC_3_COL_LIST]\n",
    "\n",
    "# Get the renames for each of the columns\n",
    "sc_rename_1 = mainCategoryRename(SC_1_COLS)\n",
    "sc_rename_2 = mainCategoryRename(SC_2_COLS)\n",
    "sc_rename_3 = mainCategoryRename(SC_3_COLS)\n",
    "\n",
    "# Perform column rename on each dataframe\n",
    "# Each df will have the same set of names for their columns\n",
    "sc_df_1 = sc_df_1.rename(columns=sc_rename_1)\n",
    "sc_df_2 = sc_df_2.rename(columns=sc_rename_2)\n",
    "sc_df_3 = sc_df_3.rename(columns=sc_rename_3)"
   ]
  },
  {
   "cell_type": "code",
   "execution_count": 21,
   "metadata": {},
   "outputs": [],
   "source": [
    "# Concatenate the columns\n",
    "sc_df = pd.concat([sc_df_1, sc_df_2, sc_df_3])\n",
    "sc_df = sc_df.dropna(subset=[TITLE])"
   ]
  },
  {
   "cell_type": "markdown",
   "metadata": {},
   "source": [
    "Seperate into the different kinds of AMV's"
   ]
  },
  {
   "cell_type": "code",
   "execution_count": 30,
   "metadata": {},
   "outputs": [],
   "source": [
    "# Break up into the 3 categories that Limited Contains\n",
    "fun_and_play_df = sc_df[sc_df[KIND] == FUN_AND_PLAY]\n",
    "comedy_and_humor_df = sc_df[sc_df[KIND] == COMEDY_AND_HUMOR]\n",
    "rhythm_and_beat_df = sc_df[sc_df[KIND] == RHYTHM_AND_BEAT]\n",
    "\n",
    "# Remove Kind column as the type of information has already been used to \n",
    "# seperate the data into seperate dataframes. \n",
    "fun_and_play_df = fun_and_play_df.drop([KIND], axis=1)\n",
    "comedy_and_humor_df = comedy_and_humor_df.drop([KIND], axis=1)\n",
    "rhythm_and_beat_df = rhythm_and_beat_df.drop([KIND], axis=1)"
   ]
  },
  {
   "cell_type": "code",
   "execution_count": null,
   "metadata": {},
   "outputs": [],
   "source": [
    "sc_writer = pd.ExcelWriter('standard_categories.xlsx', engine='xlsxwriter')\n",
    "\n",
    "# Write each Standard Category dataframe to a specific sheet\n",
    "fun_and_play_df.to_excel(sc_writer, sheet_name=FUN_AND_PLAY)\n",
    "comedy_and_humor_df.to_excel(sc_writer, sheet_name=COMEDY_AND_HUMOR)\n",
    "rhythm_and_beat_df.to_excel(sc_writer, sheet_name=RHYTHM_AND_BEAT)\n",
    "\n",
    "# Close the Pandas Excel writer and output the Excel file\n",
    "sc_writer.save()"
   ]
  }
 ],
 "metadata": {
  "interpreter": {
   "hash": "87adc3e6e4264f0c3d7e869a8af8b5bac96435861752d379f875aae559691e3a"
  },
  "kernelspec": {
   "display_name": "Python 3.8.13 ('AMV')",
   "language": "python",
   "name": "python3"
  },
  "language_info": {
   "codemirror_mode": {
    "name": "ipython",
    "version": 3
   },
   "file_extension": ".py",
   "mimetype": "text/x-python",
   "name": "python",
   "nbconvert_exporter": "python",
   "pygments_lexer": "ipython3",
   "version": "3.8.13"
  },
  "orig_nbformat": 4
 },
 "nbformat": 4,
 "nbformat_minor": 2
}
